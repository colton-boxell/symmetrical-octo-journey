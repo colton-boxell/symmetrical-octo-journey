{
 "cells": [
  {
   "cell_type": "code",
   "execution_count": 4,
   "metadata": {},
   "outputs": [],
   "source": [
    "import email.message\n",
    "import mimetypes\n",
    "import os.path\n",
    "import smtplib\n",
    "import csv\n",
    "import time\n",
    "from datetime import datetime"
   ]
  },
  {
   "cell_type": "code",
   "execution_count": 5,
   "metadata": {},
   "outputs": [],
   "source": [
    "def generate_message(sender, recipient, subject, body, attachment_path):\n",
    "    ### Creates an email with an attachement ###\n",
    "    # Basic Email formatting\n",
    "    message = email.message.EmailMessage()\n",
    "    message[\"From\"] = sender\n",
    "    message[\"To\"] = recipient\n",
    "    message[\"Subject\"] = subject\n",
    "    message.set_content(body)\n",
    "\n",
    "    # Process the attachment and add it to the email\n",
    "    attachment_filename = os.path.basename(attachment_path)\n",
    "    mime_type, _ = mimetypes.guess_type(attachment_path)\n",
    "    mime_type, mime_subtype = mime_type.split('/', 1)\n",
    "\n",
    "    with open(attachment_path, 'rb') as ap:\n",
    "        message.add_attachment(ap.read(),\n",
    "            maintype=mime_type,\n",
    "            subtype=mime_subtype,\n",
    "            filename=attachment_filename)\n",
    "\n",
    "    return message\n",
    "\n",
    "def send(message):\n",
    "    try:\n",
    "        ### Sends the message to the configured SMTP server.###\n",
    "        mail_server = smtplib.SMTP('smtp.gmail.com', 587)\n",
    "        mail_server.starttls()\n",
    "        mail_server.login('coltonboxell@gmail.com', 'ujkciovzopyfbusu')\n",
    "        mail_server.send_message(message)\n",
    "        mail_server.quit()\n",
    "        return 0\n",
    "        # This is crap, but I'm not sure how to make the error reporting better. \n",
    "        # I want to save it to a log file, but I need the intended recipient for proper logging  \n",
    "    except:\n",
    "        return 1"
   ]
  },
  {
   "cell_type": "code",
   "execution_count": 6,
   "metadata": {},
   "outputs": [
    {
     "name": "stdout",
     "output_type": "stream",
     "text": [
      "195 Messages sent in this process!\r"
     ]
    },
    {
     "ename": "ValueError",
     "evalue": "too many values to unpack (expected 8)",
     "output_type": "error",
     "traceback": [
      "\u001b[0;31m---------------------------------------------------------------------------\u001b[0m",
      "\u001b[0;31mValueError\u001b[0m                                Traceback (most recent call last)",
      "\u001b[0;32m<ipython-input-6-97ee24f745f3>\u001b[0m in \u001b[0;36m<module>\u001b[0;34m\u001b[0m\n\u001b[1;32m      4\u001b[0m \u001b[0;32mwith\u001b[0m \u001b[0mopen\u001b[0m\u001b[0;34m(\u001b[0m\u001b[0;34m'DailyResults.csv'\u001b[0m\u001b[0;34m,\u001b[0m \u001b[0;34m'r'\u001b[0m\u001b[0;34m)\u001b[0m \u001b[0;32mas\u001b[0m \u001b[0mdr\u001b[0m\u001b[0;34m:\u001b[0m\u001b[0;34m\u001b[0m\u001b[0;34m\u001b[0m\u001b[0m\n\u001b[1;32m      5\u001b[0m     \u001b[0;32mfor\u001b[0m \u001b[0mrow\u001b[0m \u001b[0;32min\u001b[0m \u001b[0mcsv\u001b[0m\u001b[0;34m.\u001b[0m\u001b[0mDictReader\u001b[0m\u001b[0;34m(\u001b[0m\u001b[0mdr\u001b[0m\u001b[0;34m)\u001b[0m\u001b[0;34m:\u001b[0m\u001b[0;34m\u001b[0m\u001b[0;34m\u001b[0m\u001b[0m\n\u001b[0;32m----> 6\u001b[0;31m         \u001b[0mJob_ID\u001b[0m\u001b[0;34m,\u001b[0m \u001b[0mTitle\u001b[0m\u001b[0;34m,\u001b[0m \u001b[0mDate\u001b[0m\u001b[0;34m,\u001b[0m \u001b[0mCompany\u001b[0m\u001b[0;34m,\u001b[0m \u001b[0mLocation\u001b[0m\u001b[0;34m,\u001b[0m \u001b[0mSalary\u001b[0m\u001b[0;34m,\u001b[0m \u001b[0mJob_Source\u001b[0m\u001b[0;34m,\u001b[0m \u001b[0mEmail\u001b[0m \u001b[0;34m=\u001b[0m \u001b[0mrow\u001b[0m\u001b[0;34m.\u001b[0m\u001b[0mvalues\u001b[0m\u001b[0;34m(\u001b[0m\u001b[0;34m)\u001b[0m\u001b[0;34m\u001b[0m\u001b[0;34m\u001b[0m\u001b[0m\n\u001b[0m\u001b[1;32m      7\u001b[0m         \u001b[0;32mif\u001b[0m \u001b[0mEmail\u001b[0m\u001b[0;34m:\u001b[0m\u001b[0;34m\u001b[0m\u001b[0;34m\u001b[0m\u001b[0m\n\u001b[1;32m      8\u001b[0m             \u001b[0mrecipient\u001b[0m \u001b[0;34m=\u001b[0m \u001b[0mEmail\u001b[0m\u001b[0;34m\u001b[0m\u001b[0;34m\u001b[0m\u001b[0m\n",
      "\u001b[0;31mValueError\u001b[0m: too many values to unpack (expected 8)"
     ]
    }
   ],
   "source": [
    "attachment_path = \"/home/colton/Documents/Resume.pdf\"\n",
    "counter = 1\n",
    "\n",
    "with open('DailyResults.csv', 'r') as dr:\n",
    "    for row in csv.DictReader(dr):\n",
    "        Job_ID, Title, Date, Company, Location, Salary, Job_Source, Email = row.values()\n",
    "        if Email:\n",
    "            recipient = Email\n",
    "            subject = \"\"\"{} Application\"\"\".format(Title)\n",
    "            body = \"\"\"Hello {},\n",
    "\n",
    "            My name is Colton Boxell, I am applying to the position of {} with {} located in {}\n",
    "\n",
    "            My resume is attached.\n",
    "\n",
    "            I am contacting you through my automated Python service.\n",
    "\n",
    "            Thank you and have a wonderful day\n",
    "\n",
    "             Colton Boxell\n",
    "            \"\"\".format(Company, Title, Company, Location)\n",
    "\n",
    "            message = generate_message(\"coltonboxell@gmail.com\", recipient, subject, body, attachment_path)\n",
    "            status = send(message)\n",
    "            #This needs to be changed to a sent column rather than a separate file\n",
    "            with open(\"sent_log\", \"a\") as sl:\n",
    "                now = datetime.now()\n",
    "                sl.write(\"Application for {} sent to {} at {} with result {}\\n\".format(Title, recipient, now, status))\n",
    "            print(\"{} Messages sent in this process!\".format(counter), end = \"\\r\", flush=True)\n",
    "            counter += 1\n",
    "            time.sleep(4)\n",
    "        else:\n",
    "            continue"
   ]
  }
 ],
 "metadata": {
  "kernelspec": {
   "display_name": "Python 3",
   "language": "python",
   "name": "python3"
  },
  "language_info": {
   "codemirror_mode": {
    "name": "ipython",
    "version": 3
   },
   "file_extension": ".py",
   "mimetype": "text/x-python",
   "name": "python",
   "nbconvert_exporter": "python",
   "pygments_lexer": "ipython3",
   "version": "3.8.5"
  }
 },
 "nbformat": 4,
 "nbformat_minor": 4
}
